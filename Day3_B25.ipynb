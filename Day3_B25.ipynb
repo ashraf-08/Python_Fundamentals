{
 "cells": [
  {
   "cell_type": "code",
   "execution_count": 5,
   "metadata": {},
   "outputs": [
    {
     "name": "stdout",
     "output_type": "stream",
     "text": [
      "Ashraf Ali\n"
     ]
    }
   ],
   "source": [
    "first_name='Ashraf'\n",
    "last_name='Ali'\n",
    "Name=f\"{first_name} {last_name}\"\n",
    "print(Name)"
   ]
  },
  {
   "cell_type": "code",
   "execution_count": 7,
   "metadata": {},
   "outputs": [
    {
     "name": "stdout",
     "output_type": "stream",
     "text": [
      "Ashraf Ali Nagati\n"
     ]
    }
   ],
   "source": [
    "first_name='Ashraf'\n",
    "last_name='Ali'\n",
    "Name=f\"{first_name} {last_name} Nagati\"\n",
    "print(Name)"
   ]
  },
  {
   "cell_type": "code",
   "execution_count": 9,
   "metadata": {},
   "outputs": [
    {
     "name": "stdout",
     "output_type": "stream",
     "text": [
      "Ashraf ali Nagati\n"
     ]
    }
   ],
   "source": [
    "first_name='Ashraf'\n",
    "last_name='Ali'\n",
    "Name=f\"{first_name.title()} {last_name.lower()} Nagati\"\n",
    "print(Name)"
   ]
  },
  {
   "cell_type": "code",
   "execution_count": 11,
   "metadata": {},
   "outputs": [
    {
     "name": "stdout",
     "output_type": "stream",
     "text": [
      "cc++javapythonr\n"
     ]
    }
   ],
   "source": [
    "print(\"cc++javapythonr\")"
   ]
  },
  {
   "cell_type": "code",
   "execution_count": 12,
   "metadata": {},
   "outputs": [
    {
     "name": "stdout",
     "output_type": "stream",
     "text": [
      "c\n",
      "c++\n",
      "java\n",
      "python\n",
      "r\n",
      "\n"
     ]
    }
   ],
   "source": [
    "print(\"c\\nc++\\njava\\npython\\nr\\n\")"
   ]
  },
  {
   "cell_type": "code",
   "execution_count": 14,
   "metadata": {},
   "outputs": [
    {
     "name": "stdout",
     "output_type": "stream",
     "text": [
      "\tc\n",
      "\tc++\n",
      "\tjava\n",
      "\tpython\n",
      "\tr\n",
      "\t\n"
     ]
    }
   ],
   "source": [
    "print(\"\\tc\\n\\tc++\\n\\tjava\\n\\tpython\\n\\tr\\n\\t\")"
   ]
  },
  {
   "cell_type": "code",
   "execution_count": null,
   "metadata": {},
   "outputs": [],
   "source": []
  }
 ],
 "metadata": {
  "kernelspec": {
   "display_name": "Python 3",
   "language": "python",
   "name": "python3"
  },
  "language_info": {
   "codemirror_mode": {
    "name": "ipython",
    "version": 3
   },
   "file_extension": ".py",
   "mimetype": "text/x-python",
   "name": "python",
   "nbconvert_exporter": "python",
   "pygments_lexer": "ipython3",
   "version": "3.7.6"
  }
 },
 "nbformat": 4,
 "nbformat_minor": 4
}
