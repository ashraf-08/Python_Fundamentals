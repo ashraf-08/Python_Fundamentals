{
 "cells": [
  {
   "cell_type": "code",
   "execution_count": null,
   "metadata": {},
   "outputs": [],
   "source": [
    "Introduction to list datatype\n",
    "-Def:-A list is a collection of item in particular order.\n",
    "-Classified as mutable datatype\n",
    "-Can be defined using [] #square brackets"
   ]
  },
  {
   "cell_type": "code",
   "execution_count": 1,
   "metadata": {},
   "outputs": [
    {
     "name": "stdout",
     "output_type": "stream",
     "text": [
      "['BMW', 'Benz', 'ferarri', 'hondai', 'toyota']\n"
     ]
    }
   ],
   "source": [
    "car=['BMW','Benz','ferarri','hondai','toyota']\n",
    "print(car)"
   ]
  },
  {
   "cell_type": "code",
   "execution_count": 2,
   "metadata": {},
   "outputs": [
    {
     "data": {
      "text/plain": [
       "list"
      ]
     },
     "execution_count": 2,
     "metadata": {},
     "output_type": "execute_result"
    }
   ],
   "source": [
    "type(car) #to know about which datatype dose a variable belongs to"
   ]
  },
  {
   "cell_type": "code",
   "execution_count": null,
   "metadata": {},
   "outputs": [],
   "source": [
    "To add , delete and modify th elements of list we need to know about concept of indexing\n",
    "-Indexing is done internally where it start from 0 to n-1 elements .\n",
    "ex:- In above car list , BMW=index 0,Benz=index 1 so on accordingly."
   ]
  },
  {
   "cell_type": "code",
   "execution_count": 3,
   "metadata": {},
   "outputs": [
    {
     "name": "stdout",
     "output_type": "stream",
     "text": [
      "['BMW', 'Benz', 'ferarri', 'hondai', 'toyota', 'mahindra']\n"
     ]
    }
   ],
   "source": [
    "car=['BMW','Benz','ferarri','hondai','toyota']# add at end of list\n",
    "car.append('mahindra')\n",
    "print(car)"
   ]
  },
  {
   "cell_type": "code",
   "execution_count": 5,
   "metadata": {},
   "outputs": [
    {
     "name": "stdout",
     "output_type": "stream",
     "text": [
      "['BMW', 'Benz', 'ferarri', 'hondai', 'toyota', 'mahindra', 'suzuki', 'suzuki']\n"
     ]
    }
   ],
   "source": [
    "car.append('suzuki')# add at the end of list\n",
    "print(car)"
   ]
  },
  {
   "cell_type": "code",
   "execution_count": 10,
   "metadata": {},
   "outputs": [],
   "source": [
    "car.insert(2,'i10') # add at desired location"
   ]
  },
  {
   "cell_type": "code",
   "execution_count": 11,
   "metadata": {},
   "outputs": [
    {
     "name": "stdout",
     "output_type": "stream",
     "text": [
      "['BMW', 'Benz', 'i10', 'i10', 'i10', 'ferarri', 'hondai', 'toyota', 'mahindra', 'suzuki', 'suzuki']\n"
     ]
    }
   ],
   "source": [
    "print(car)"
   ]
  },
  {
   "cell_type": "code",
   "execution_count": 12,
   "metadata": {},
   "outputs": [],
   "source": [
    "car[2]='i20' #modifying the existing element"
   ]
  },
  {
   "cell_type": "code",
   "execution_count": 13,
   "metadata": {},
   "outputs": [
    {
     "name": "stdout",
     "output_type": "stream",
     "text": [
      "['BMW', 'Benz', 'i20', 'i10', 'i10', 'ferarri', 'hondai', 'toyota', 'mahindra', 'suzuki', 'suzuki']\n"
     ]
    }
   ],
   "source": [
    "print(car)"
   ]
  },
  {
   "cell_type": "code",
   "execution_count": 14,
   "metadata": {},
   "outputs": [
    {
     "name": "stdout",
     "output_type": "stream",
     "text": [
      "['BMW', 'Benz', 'i20', 'i10', 'ferarri', 'hondai', 'toyota', 'mahindra', 'suzuki', 'suzuki']\n"
     ]
    }
   ],
   "source": [
    "del car[3] # deleting the element from list\n",
    "print(car)"
   ]
  },
  {
   "cell_type": "code",
   "execution_count": null,
   "metadata": {},
   "outputs": [],
   "source": []
  }
 ],
 "metadata": {
  "kernelspec": {
   "display_name": "Python 3",
   "language": "python",
   "name": "python3"
  },
  "language_info": {
   "codemirror_mode": {
    "name": "ipython",
    "version": 3
   },
   "file_extension": ".py",
   "mimetype": "text/x-python",
   "name": "python",
   "nbconvert_exporter": "python",
   "pygments_lexer": "ipython3",
   "version": "3.7.6"
  }
 },
 "nbformat": 4,
 "nbformat_minor": 4
}
