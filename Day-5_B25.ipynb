{
 "cells": [
  {
   "cell_type": "code",
   "execution_count": null,
   "metadata": {},
   "outputs": [],
   "source": [
    "list #continew"
   ]
  },
  {
   "cell_type": "code",
   "execution_count": 1,
   "metadata": {},
   "outputs": [
    {
     "name": "stdout",
     "output_type": "stream",
     "text": [
      "['Abhi', 'needa', 'ashraf', 'mohin', 'karthik', 'shakshi', 'vinoth', 'anand', 'karthik', 'suraksha']\n"
     ]
    }
   ],
   "source": [
    "students=['Abhi','needa','ashraf','mohin','karthik','shakshi','vinoth','anand','karthik','suraksha']\n",
    "print(students)"
   ]
  },
  {
   "cell_type": "code",
   "execution_count": 2,
   "metadata": {},
   "outputs": [
    {
     "data": {
      "text/plain": [
       "list"
      ]
     },
     "execution_count": 2,
     "metadata": {},
     "output_type": "execute_result"
    }
   ],
   "source": [
    "type(students)"
   ]
  },
  {
   "cell_type": "code",
   "execution_count": null,
   "metadata": {},
   "outputs": [],
   "source": [
    "#Req: Appriciate the list of students above"
   ]
  },
  {
   "cell_type": "code",
   "execution_count": 5,
   "metadata": {},
   "outputs": [
    {
     "name": "stdout",
     "output_type": "stream",
     "text": [
      "keep the good work,Abhi\n",
      "keep the good work,needa\n",
      "keep the good work,ashraf\n"
     ]
    }
   ],
   "source": [
    "print(f\"keep the good work,{students[0]}\") #this is the normal method we can do but ,what if we have 1000 of records?\n",
    "print(f\"keep the good work,{students[1]}\")\n",
    "print(f\"keep the good work,{students[2]}\")"
   ]
  },
  {
   "cell_type": "code",
   "execution_count": null,
   "metadata": {},
   "outputs": [],
   "source": [
    "we can do this req at 1 step, we can make use of for loop\n",
    "\n",
    "Inroduction to for loop\n",
    "Syntax:-\n",
    "    for tempvar in mainvar: #tempvar is a temp variable and mainvar is the variable i,e students in this case\n",
    "        print(tempvar)"
   ]
  },
  {
   "cell_type": "code",
   "execution_count": 7,
   "metadata": {},
   "outputs": [
    {
     "name": "stdout",
     "output_type": "stream",
     "text": [
      "keep the good work,Abhi\n",
      "keep the good work,needa\n",
      "keep the good work,ashraf\n",
      "keep the good work,mohin\n",
      "keep the good work,karthik\n",
      "keep the good work,shakshi\n",
      "keep the good work,vinoth\n",
      "keep the good work,anand\n",
      "keep the good work,karthik\n",
      "keep the good work,suraksha\n"
     ]
    }
   ],
   "source": [
    "#Now will try to wish all students in the list in one run\n",
    "for x in students:\n",
    "    print(f\"keep the good work,{x}\")"
   ]
  },
  {
   "cell_type": "code",
   "execution_count": 8,
   "metadata": {},
   "outputs": [
    {
     "name": "stdout",
     "output_type": "stream",
     "text": [
      "keep the good work,Abhi\n",
      "looking forward to recive today's file ,Abhi\n",
      "keep the good work,needa\n",
      "looking forward to recive today's file ,needa\n",
      "keep the good work,ashraf\n",
      "looking forward to recive today's file ,ashraf\n",
      "keep the good work,mohin\n",
      "looking forward to recive today's file ,mohin\n",
      "keep the good work,karthik\n",
      "looking forward to recive today's file ,karthik\n",
      "keep the good work,shakshi\n",
      "looking forward to recive today's file ,shakshi\n",
      "keep the good work,vinoth\n",
      "looking forward to recive today's file ,vinoth\n",
      "keep the good work,anand\n",
      "looking forward to recive today's file ,anand\n",
      "keep the good work,karthik\n",
      "looking forward to recive today's file ,karthik\n",
      "keep the good work,suraksha\n",
      "looking forward to recive today's file ,suraksha\n"
     ]
    }
   ],
   "source": [
    "#further enhancement , how to print looking for todays file after wishing.\n",
    "for x in students:\n",
    "    print(f\"keep the good work,{x}\")\n",
    "    print(f\"looking forward to recive today's file ,{x}\")\n",
    "    # output do not look that much better we can add a new line whitespace \n",
    "    "
   ]
  },
  {
   "cell_type": "code",
   "execution_count": 10,
   "metadata": {},
   "outputs": [
    {
     "name": "stdout",
     "output_type": "stream",
     "text": [
      "keep the good work,Abhi\n",
      "looking forward to recive today's file ,Abhi.\n",
      "\n",
      "keep the good work,needa\n",
      "looking forward to recive today's file ,needa.\n",
      "\n",
      "keep the good work,ashraf\n",
      "looking forward to recive today's file ,ashraf.\n",
      "\n",
      "keep the good work,mohin\n",
      "looking forward to recive today's file ,mohin.\n",
      "\n",
      "keep the good work,karthik\n",
      "looking forward to recive today's file ,karthik.\n",
      "\n",
      "keep the good work,shakshi\n",
      "looking forward to recive today's file ,shakshi.\n",
      "\n",
      "keep the good work,vinoth\n",
      "looking forward to recive today's file ,vinoth.\n",
      "\n",
      "keep the good work,anand\n",
      "looking forward to recive today's file ,anand.\n",
      "\n",
      "keep the good work,karthik\n",
      "looking forward to recive today's file ,karthik.\n",
      "\n",
      "keep the good work,suraksha\n",
      "looking forward to recive today's file ,suraksha.\n",
      "\n"
     ]
    }
   ],
   "source": [
    "for x in students:\n",
    "    print(f\"keep the good work,{x}\")\n",
    "    print(f\"looking forward to recive today's file ,{x}.\\n\")"
   ]
  },
  {
   "cell_type": "code",
   "execution_count": 15,
   "metadata": {},
   "outputs": [
    {
     "name": "stdout",
     "output_type": "stream",
     "text": [
      "keep the good work,Abhi\n",
      "looking forward to recive today's file ,Abhi\n",
      "\n",
      "keep the good work,needa\n",
      "looking forward to recive today's file ,needa\n",
      "\n",
      "keep the good work,ashraf\n",
      "looking forward to recive today's file ,ashraf\n",
      "\n",
      "keep the good work,mohin\n",
      "looking forward to recive today's file ,mohin\n",
      "\n",
      "keep the good work,karthik\n",
      "looking forward to recive today's file ,karthik\n",
      "\n",
      "keep the good work,shakshi\n",
      "looking forward to recive today's file ,shakshi\n",
      "\n",
      "keep the good work,vinoth\n",
      "looking forward to recive today's file ,vinoth\n",
      "\n",
      "keep the good work,anand\n",
      "looking forward to recive today's file ,anand\n",
      "\n",
      "keep the good work,karthik\n",
      "looking forward to recive today's file ,karthik\n",
      "\n",
      "keep the good work,suraksha\n",
      "looking forward to recive today's file ,suraksha\n",
      "\n",
      "Thanks you all for showing intrest in learning python\n"
     ]
    }
   ],
   "source": [
    "#req:- wish thanks for all students after ,wishing\n",
    "for x in students:\n",
    "    print(f\"keep the good work,{x}\")\n",
    "    print(f\"looking forward to recive today's file ,{x}\\n\")\n",
    "print(\"Thanks you all for showing intrest in learning python\")"
   ]
  },
  {
   "cell_type": "code",
   "execution_count": null,
   "metadata": {},
   "outputs": [],
   "source": []
  }
 ],
 "metadata": {
  "kernelspec": {
   "display_name": "Python 3",
   "language": "python",
   "name": "python3"
  },
  "language_info": {
   "codemirror_mode": {
    "name": "ipython",
    "version": 3
   },
   "file_extension": ".py",
   "mimetype": "text/x-python",
   "name": "python",
   "nbconvert_exporter": "python",
   "pygments_lexer": "ipython3",
   "version": "3.7.6"
  }
 },
 "nbformat": 4,
 "nbformat_minor": 4
}
